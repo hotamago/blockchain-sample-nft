{
 "cells": [
  {
   "cell_type": "markdown",
   "metadata": {},
   "source": [
    "## Lab test solana"
   ]
  },
  {
   "cell_type": "code",
   "execution_count": 1,
   "metadata": {},
   "outputs": [],
   "source": [
    "# import data\n",
    "from hotaSolana.hotaSolanaData import *\n",
    "from hotaSolana.bs58 import bs58"
   ]
  },
  {
   "cell_type": "code",
   "execution_count": 2,
   "metadata": {},
   "outputs": [
    {
     "name": "stdout",
     "output_type": "stream",
     "text": [
      "Connected to devnet\n"
     ]
    }
   ],
   "source": [
    "client = HotaSolanaClient(\n",
    "    \"RSfLGJjiczv73AUSP6EeiLzE9XZR8nUjdL6uXvNmcwg\", False, \"devnet\", \"hotaNFT4\")"
   ]
  },
  {
   "cell_type": "code",
   "execution_count": 3,
   "metadata": {},
   "outputs": [
    {
     "name": "stdout",
     "output_type": "stream",
     "text": [
      "Logged in with keypair FtQw2nfWmkN8dqqrZtrdnXEtL2TZEM5e3QL9ugaZnk7t\n",
      "Logged in with keypairseed 4Cgs69QEoSEbDTjkfvxuozPsnRgsm1nxajCXPfHCow4s CKuDWhwLrFuXzU9db1A3raHh74YY6BY3V7f4tndrwy8TDuGCKpjmm6rh1AnDca2ruN5B89PDVqydDgkevhkYcjZ\n"
     ]
    }
   ],
   "source": [
    "client.make_key_pair(\n",
    "    \"UjsHZxUY11fRV59QHrSmPPqbYDNRBf9h6zEBCCNKjVaQhozgVduCEMLFiyPrWW1evVWgiHme4TYLBKgrao3aJuG\")"
   ]
  },
  {
   "cell_type": "code",
   "execution_count": 4,
   "metadata": {},
   "outputs": [
    {
     "data": {
      "text/plain": [
       "AccountInfo(owner='RSfLGJjiczv73AUSP6EeiLzE9XZR8nUjdL6uXvNmcwg')"
      ]
     },
     "execution_count": 4,
     "metadata": {},
     "output_type": "execute_result"
    }
   ],
   "source": [
    "client.get_account_info()"
   ]
  },
  {
   "cell_type": "code",
   "execution_count": null,
   "metadata": {},
   "outputs": [],
   "source": [
    "client.get_balance()"
   ]
  },
  {
   "cell_type": "code",
   "execution_count": null,
   "metadata": {},
   "outputs": [],
   "source": [
    "# Drop some SOL\n",
    "# client.drop_sol(1)"
   ]
  },
  {
   "cell_type": "code",
   "execution_count": null,
   "metadata": {},
   "outputs": [],
   "source": [
    "# Add random face\n",
    "newFaceNFT = FaceStruct()\n",
    "newFaceNFT.randomFace()\n",
    "instructionData = InstructionDataStruct(\n",
    "    typeAct=HotaUint8(0),\n",
    "    face=newFaceNFT,\n",
    ")"
   ]
  },
  {
   "cell_type": "code",
   "execution_count": null,
   "metadata": {},
   "outputs": [],
   "source": [
    "len(client.keypair_seed.key_pair.encode())"
   ]
  },
  {
   "cell_type": "code",
   "execution_count": null,
   "metadata": {},
   "outputs": [],
   "source": [
    "keys = [AccountMeta(public_key=pubkey, is_signer=False, is_writable=True)\n",
    "        for pubkey in [client.keypair_seed.public_key]]\n",
    "\n",
    "instruction = Instruction(\n",
    "    keys=keys,\n",
    "    program_id=client.program_id,\n",
    "    data=bytes(instructionData.serialize()),\n",
    ")\n",
    "\n",
    "transaction = Transaction(instructions=[\n",
    "    instruction\n",
    "], signers=[client.keypair])"
   ]
  },
  {
   "cell_type": "code",
   "execution_count": null,
   "metadata": {},
   "outputs": [],
   "source": [
    "recent_blockhash = transaction.recent_blockhash\n",
    "\n",
    "if recent_blockhash is None:\n",
    "    blockhash_resp = client.connection.get_recent_blockhash()\n",
    "    recent_blockhash = blockhash_resp.blockhash\n",
    "\n",
    "transaction.recent_blockhash = recent_blockhash\n",
    "transaction.sign()"
   ]
  },
  {
   "cell_type": "code",
   "execution_count": null,
   "metadata": {},
   "outputs": [],
   "source": [
    "from hotaSolana.bs58 import bs58"
   ]
  },
  {
   "cell_type": "code",
   "execution_count": null,
   "metadata": {},
   "outputs": [],
   "source": [
    "client.connection.build_and_send_request(\n",
    "    \"simulateTransaction\", [transaction.serialize(), {\n",
    "        \"encoding\": \"base64\"}]\n",
    ")"
   ]
  },
  {
   "cell_type": "code",
   "execution_count": null,
   "metadata": {},
   "outputs": [],
   "source": [
    "len(bytes(instructionData.serialize()))"
   ]
  },
  {
   "cell_type": "code",
   "execution_count": null,
   "metadata": {},
   "outputs": [],
   "source": [
    "# Add random face\n",
    "newFaceNFT = FaceStruct()\n",
    "newFaceNFT.randomFace()\n",
    "instructionData = InstructionDataStruct(\n",
    "    typeAct=HotaUint8(0),\n",
    "    face=newFaceNFT,\n",
    ")\n",
    "client.send_transaction(instructionData, [client.keypair_seed.public_key], [client.keypair])"
   ]
  },
  {
   "cell_type": "code",
   "execution_count": null,
   "metadata": {},
   "outputs": [],
   "source": [
    "len(bytes(instructionData.serialize()))"
   ]
  },
  {
   "cell_type": "code",
   "execution_count": 4,
   "metadata": {},
   "outputs": [],
   "source": [
    "from nacl.signing import SigningKey"
   ]
  },
  {
   "cell_type": "code",
   "execution_count": 28,
   "metadata": {},
   "outputs": [
    {
     "data": {
      "text/plain": [
       "b'hotaNFT4'"
      ]
     },
     "execution_count": 28,
     "metadata": {},
     "output_type": "execute_result"
    }
   ],
   "source": [
    "bytes(client.seed.encode())"
   ]
  },
  {
   "cell_type": "code",
   "execution_count": 6,
   "metadata": {},
   "outputs": [
    {
     "data": {
      "text/plain": [
       "'f8Km2W7rtMM9dQ8d2RJmZVBX4KXPjNTZEnMjDzB59Qo'"
      ]
     },
     "execution_count": 6,
     "metadata": {},
     "output_type": "execute_result"
    }
   ],
   "source": [
    "bs58.encode(random_32bytes_with_seed(\n",
    "    client.keypair.public_key,\n",
    "    client.seed,\n",
    "    client.program_id))"
   ]
  },
  {
   "cell_type": "code",
   "execution_count": 9,
   "metadata": {},
   "outputs": [],
   "source": [
    "esPairKey = SigningKey(bytes(bs58.decode(random_32bytes_with_seed(\n",
    "    client.keypair.public_key,\n",
    "    client.seed,\n",
    "    client.program_id)\n",
    ")))"
   ]
  },
  {
   "cell_type": "code",
   "execution_count": 35,
   "metadata": {},
   "outputs": [],
   "source": [
    "def textEncodeASCII(text):\n",
    "    arr = []\n",
    "    for i in range(len(text)):\n",
    "        arr.append(ord(text[i]))\n",
    "    return arr"
   ]
  },
  {
   "cell_type": "code",
   "execution_count": 41,
   "metadata": {},
   "outputs": [
    {
     "data": {
      "text/plain": [
       "'D7iQJ46ojUF'"
      ]
     },
     "execution_count": 41,
     "metadata": {},
     "output_type": "execute_result"
    }
   ],
   "source": [
    "bs58.encode(bytes(textEncodeASCII(\"HotaNFT4\")))"
   ]
  },
  {
   "cell_type": "code",
   "execution_count": null,
   "metadata": {},
   "outputs": [],
   "source": []
  }
 ],
 "metadata": {
  "kernelspec": {
   "display_name": "webapi",
   "language": "python",
   "name": "python3"
  },
  "language_info": {
   "codemirror_mode": {
    "name": "ipython",
    "version": 3
   },
   "file_extension": ".py",
   "mimetype": "text/x-python",
   "name": "python",
   "nbconvert_exporter": "python",
   "pygments_lexer": "ipython3",
   "version": "3.10.14"
  }
 },
 "nbformat": 4,
 "nbformat_minor": 2
}
